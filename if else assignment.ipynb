{
 "cells": [
  {
   "cell_type": "markdown",
   "id": "39569adf-5674-45bc-b1bf-35cb3ca88cfa",
   "metadata": {},
   "source": [
    "1. Write a Python program to check if a given number is positive or negative."
   ]
  },
  {
   "cell_type": "code",
   "execution_count": 1,
   "id": "7d8b84e5-d925-4899-ace6-fe417000a697",
   "metadata": {},
   "outputs": [
    {
     "name": "stdin",
     "output_type": "stream",
     "text": [
      "enter a number -5\n"
     ]
    },
    {
     "name": "stdout",
     "output_type": "stream",
     "text": [
      "number is negative\n"
     ]
    }
   ],
   "source": [
    "a = int(input(\"enter a number\"))\n",
    "\n",
    "if (a<0):\n",
    "    print(\"number is negative\")\n",
    "else:\n",
    "    print(\"number is positive\")"
   ]
  },
  {
   "cell_type": "markdown",
   "id": "f9fec7ee-8ba0-492a-82e7-1d53c237cecd",
   "metadata": {},
   "source": [
    "2. Create a program that determines if a person is eligible to vote based on their age."
   ]
  },
  {
   "cell_type": "code",
   "execution_count": 3,
   "id": "ca33fa51-b36b-4191-ab41-1cc1ce4f414a",
   "metadata": {},
   "outputs": [
    {
     "name": "stdin",
     "output_type": "stream",
     "text": [
      "enter your age 19\n"
     ]
    },
    {
     "name": "stdout",
     "output_type": "stream",
     "text": [
      "you are eligible to vote\n"
     ]
    }
   ],
   "source": [
    "a = int(input(\"enter your age\"))\n",
    "\n",
    "if (a>=18):\n",
    "    print(\"you are eligible to vote\")\n",
    "else:\n",
    "    print(\"you are not eligible to vote\")"
   ]
  },
  {
   "cell_type": "markdown",
   "id": "8bd21760-13fe-43a3-a1f2-2f79e60a8e85",
   "metadata": {},
   "source": [
    "3. Develop a program to find the maximum of two numbers using if-else statements."
   ]
  },
  {
   "cell_type": "code",
   "execution_count": 4,
   "id": "0a23093c-ed47-4282-a639-75eb674a2dcc",
   "metadata": {},
   "outputs": [
    {
     "name": "stdin",
     "output_type": "stream",
     "text": [
      "enter first number 10\n",
      "enter second number 20\n"
     ]
    },
    {
     "name": "stdout",
     "output_type": "stream",
     "text": [
      "20 is greatest\n"
     ]
    }
   ],
   "source": [
    "num1 = int(input(\"enter first number\"))\n",
    "num2 = int(input(\"enter second number\"))\n",
    "\n",
    "if num1 > num2:\n",
    "    print(num1, \"is greatest\")\n",
    "else:\n",
    "    print(num2, \"is greatest\")"
   ]
  },
  {
   "cell_type": "markdown",
   "id": "2a05b889-d773-470b-bd8e-396a61cad9f4",
   "metadata": {},
   "source": [
    "4. Write a Python script to classify a given year as a leap year or not."
   ]
  },
  {
   "cell_type": "code",
   "execution_count": 9,
   "id": "f9b0bb6d-5482-4712-bc66-771573854b0f",
   "metadata": {},
   "outputs": [
    {
     "name": "stdin",
     "output_type": "stream",
     "text": [
      "Enter a year:  1999\n"
     ]
    },
    {
     "name": "stdout",
     "output_type": "stream",
     "text": [
      "1999 is not a leap year.\n"
     ]
    }
   ],
   "source": [
    "year = int(input(\"Enter a year: \"))\n",
    "\n",
    "if (year % 4 == 0 and year % 100 != 0) or (year % 400 == 0):\n",
    "    print(f\"{year} is a leap year.\")\n",
    "else:\n",
    "    print(f\"{year} is not a leap year.\")\n"
   ]
  },
  {
   "cell_type": "markdown",
   "id": "efb00715-64a2-4fca-8d7d-ccd3d84ffc67",
   "metadata": {},
   "source": [
    "5. Create a program that checks whether a character is a vowel or a consonant."
   ]
  },
  {
   "cell_type": "code",
   "execution_count": 13,
   "id": "ef0387d4-096d-486b-8638-4d102b922923",
   "metadata": {},
   "outputs": [
    {
     "name": "stdin",
     "output_type": "stream",
     "text": [
      "enter a character e\n"
     ]
    },
    {
     "name": "stdout",
     "output_type": "stream",
     "text": [
      "e is vowel\n"
     ]
    }
   ],
   "source": [
    "char = input(\"enter a character\")\n",
    "\n",
    "if char in ['a','e','i','o','u']:\n",
    "    print(char, \"is vowel\")\n",
    "else:\n",
    "    print(char, \"is consonant\")"
   ]
  },
  {
   "cell_type": "markdown",
   "id": "ddf5d5c1-653f-4824-9770-c5bcae0b4487",
   "metadata": {},
   "source": [
    "6. Implement a program to determine whether a given number is even or odd."
   ]
  },
  {
   "cell_type": "code",
   "execution_count": 14,
   "id": "0aaacf87-5f54-4f73-ba1e-6314fe1f8b4b",
   "metadata": {},
   "outputs": [
    {
     "name": "stdin",
     "output_type": "stream",
     "text": [
      "enter any number 25\n"
     ]
    },
    {
     "name": "stdout",
     "output_type": "stream",
     "text": [
      "it is odd number\n"
     ]
    }
   ],
   "source": [
    "a = int(input('enter any number'))\n",
    "\n",
    "if a%2 == 0:\n",
    "    print('it is even number')\n",
    "else:\n",
    "    print('it is odd number')"
   ]
  },
  {
   "cell_type": "markdown",
   "id": "c4ffe043-c5f1-497d-bb9f-da3b808b1487",
   "metadata": {},
   "source": [
    "7. Write a Python function to calculate the absolute value of a number without using the `abs()` function."
   ]
  },
  {
   "cell_type": "code",
   "execution_count": 15,
   "id": "1c36ce8f-3c9c-4bc9-9564-f3e3e7b95cdd",
   "metadata": {},
   "outputs": [
    {
     "name": "stdin",
     "output_type": "stream",
     "text": [
      "Enter a number:  15\n"
     ]
    },
    {
     "name": "stdout",
     "output_type": "stream",
     "text": [
      "Absolute value: 15.0\n"
     ]
    }
   ],
   "source": [
    "number = float(input(\"Enter a number: \"))\n",
    "absolute_value = number if number >= 0 else -number\n",
    "print(\"Absolute value:\", absolute_value)\n"
   ]
  },
  {
   "cell_type": "markdown",
   "id": "afdc3bc1-4a39-47b9-9c69-12280aec7ea1",
   "metadata": {},
   "source": [
    "8. Develop a program that determines the largest of three given numbers using if-else statements."
   ]
  },
  {
   "cell_type": "code",
   "execution_count": 16,
   "id": "6dfaec85-85c5-46b2-ab13-3d14f4b871f3",
   "metadata": {},
   "outputs": [
    {
     "name": "stdin",
     "output_type": "stream",
     "text": [
      "enter any number 10\n",
      "enter any number 20\n",
      "enter any number 68\n"
     ]
    },
    {
     "name": "stdout",
     "output_type": "stream",
     "text": [
      "68 is greatest\n"
     ]
    }
   ],
   "source": [
    "num1 = int(input('enter any number'))\n",
    "num2 = int(input('enter any number'))\n",
    "num3 = int(input('enter any number'))\n",
    "\n",
    "if num1 > num2 and num1 > num3:\n",
    "    print(num1, 'is greatest')\n",
    "elif num2 > num1 and num2 > num3:\n",
    "    print(num2,'is greatest')\n",
    "else:\n",
    "    print(num3, 'is greatest')\n",
    "    "
   ]
  },
  {
   "cell_type": "markdown",
   "id": "16d0780d-22d2-4c11-9650-c298a5967e52",
   "metadata": {},
   "source": [
    "9. Create a program that checks if a given string is a palindrome."
   ]
  },
  {
   "cell_type": "code",
   "execution_count": 17,
   "id": "fe3f8e01-9885-4ce0-ad6b-7a633d396637",
   "metadata": {},
   "outputs": [
    {
     "name": "stdin",
     "output_type": "stream",
     "text": [
      "Enter a string:  bye\n"
     ]
    },
    {
     "name": "stdout",
     "output_type": "stream",
     "text": [
      "The string is not a palindrome.\n"
     ]
    }
   ],
   "source": [
    "string = input(\"Enter a string: \")\n",
    "\n",
    "reverse_string = string[::-1]\n",
    "\n",
    "if string == reverse_string:\n",
    "    print(\"The string is a palindrome.\")\n",
    "else:\n",
    "    print(\"The string is not a palindrome.\")\n"
   ]
  },
  {
   "cell_type": "markdown",
   "id": "4c273e00-4f2d-4f68-8658-2773d6c9c2d4",
   "metadata": {},
   "source": [
    "10. Write a Python program to calculate the grade based on a student's score."
   ]
  },
  {
   "cell_type": "code",
   "execution_count": 20,
   "id": "c7b1c56d-1920-488d-9fb9-c44c63d049c2",
   "metadata": {},
   "outputs": [
    {
     "name": "stdin",
     "output_type": "stream",
     "text": [
      "Enter the student's score:  85\n"
     ]
    },
    {
     "name": "stdout",
     "output_type": "stream",
     "text": [
      "The student's grade is: B\n"
     ]
    }
   ],
   "source": [
    "score = float(input(\"Enter the student's score: \"))\n",
    "\n",
    "# Determine the grade\n",
    "if score >= 90:\n",
    "    grade = 'A'\n",
    "elif score >= 80:\n",
    "    grade = 'B'\n",
    "elif score >= 70:\n",
    "    grade = 'C'\n",
    "elif score >= 60:\n",
    "    grade = 'D'\n",
    "else:\n",
    "    grade = 'F'\n",
    "\n",
    "print(f\"The student's grade is: {grade}\")\n"
   ]
  },
  {
   "cell_type": "markdown",
   "id": "739d11f9-d92c-4caa-a1c8-d52bbfc747b2",
   "metadata": {},
   "source": [
    "11. Write a program to find the largest among three numbers using nested if-else statements.\n"
   ]
  },
  {
   "cell_type": "code",
   "execution_count": 1,
   "id": "107953df-8378-455d-b9e3-789519fa1c22",
   "metadata": {},
   "outputs": [
    {
     "name": "stdin",
     "output_type": "stream",
     "text": [
      "Enter the first number:  20\n",
      "Enter the second number:  35\n",
      "Enter the third number:  68\n"
     ]
    },
    {
     "name": "stdout",
     "output_type": "stream",
     "text": [
      "The largest number is: 68.0\n"
     ]
    }
   ],
   "source": [
    "num1 = float(input(\"Enter the first number: \"))\n",
    "num2 = float(input(\"Enter the second number: \"))\n",
    "num3 = float(input(\"Enter the third number: \"))\n",
    "\n",
    "if num1 >= num2:\n",
    "    if num1 >= num3:\n",
    "        largest = num1\n",
    "    else:\n",
    "        largest = num3\n",
    "else:\n",
    "    if num2 >= num3:\n",
    "        largest = num2\n",
    "    else:\n",
    "        largest = num3\n",
    "\n",
    "print(f\"The largest number is: {largest}\")\n"
   ]
  },
  {
   "cell_type": "markdown",
   "id": "fc513294-9b9b-4c67-a1ee-0f2b398afa31",
   "metadata": {},
   "source": [
    "12. Implement a program to determine if a triangle is equilateral, isosceles, or scalene.\n"
   ]
  },
  {
   "cell_type": "code",
   "execution_count": 3,
   "id": "7234fa6d-4115-47c0-acb6-dab44e9c7734",
   "metadata": {},
   "outputs": [
    {
     "name": "stdin",
     "output_type": "stream",
     "text": [
      "enter the length of the first side:  20\n",
      "enter the length of the second side:  20\n",
      "enter the length of the third side:  20\n"
     ]
    },
    {
     "name": "stdout",
     "output_type": "stream",
     "text": [
      "it is equilateral trangle\n"
     ]
    }
   ],
   "source": [
    "side1 = float(input('enter the length of the first side: '))\n",
    "side2 = float(input('enter the length of the second side: '))\n",
    "side3 = float(input('enter the length of the third side: '))\n",
    "\n",
    "if side1 == side2 == side3:\n",
    "    print('it is equilateral trangle')\n",
    "elif side1 == side2 or side1 == side3 or side2 == side3:\n",
    "    print('it is isosceles triangle')\n",
    "else:\n",
    "    print('it is scalene triangle')\n",
    "    "
   ]
  },
  {
   "cell_type": "markdown",
   "id": "ee453277-1327-4cc7-8599-1a63c4c5c911",
   "metadata": {},
   "source": [
    "13. Check if a year is a leap year and also if it is a century year:"
   ]
  },
  {
   "cell_type": "code",
   "execution_count": 5,
   "id": "22088c0a-3cdd-4949-99f5-b8e3173b5571",
   "metadata": {},
   "outputs": [
    {
     "name": "stdin",
     "output_type": "stream",
     "text": [
      "Enter a year:  2024\n"
     ]
    },
    {
     "name": "stdout",
     "output_type": "stream",
     "text": [
      "2024 is a leap year.\n"
     ]
    }
   ],
   "source": [
    "year = int(input(\"Enter a year: \"))\n",
    "\n",
    "if year % 4 == 0:\n",
    "    if year % 100 == 0:\n",
    "        if year % 400 == 0:\n",
    "            print(f\"{year} is a leap year and a century year.\")\n",
    "        else:\n",
    "            print(f\"{year} is not a leap year.\")\n",
    "    else:\n",
    "        print(f\"{year} is a leap year.\")\n",
    "else:\n",
    "    print(f\"{year} is not a leap year.\")\n"
   ]
  },
  {
   "cell_type": "markdown",
   "id": "c85a5f28-710e-461d-821a-a2c16728ee04",
   "metadata": {},
   "source": [
    "14. Determine if a number is positive, negative, or zero:"
   ]
  },
  {
   "cell_type": "code",
   "execution_count": 8,
   "id": "20e021ff-6eca-4f6c-88af-3dc89f85f42f",
   "metadata": {},
   "outputs": [
    {
     "name": "stdin",
     "output_type": "stream",
     "text": [
      "enter positive or negative number -16\n"
     ]
    },
    {
     "name": "stdout",
     "output_type": "stream",
     "text": [
      "-16 it is negative number\n"
     ]
    }
   ],
   "source": [
    "num = int(input('enter positive or negative number'))\n",
    "\n",
    "if num > 0:\n",
    "    print(num, 'is positive number')\n",
    "elif num < 0:\n",
    "    print(num, 'it is negative number')\n",
    "else:\n",
    "    print('the number is zero')"
   ]
  },
  {
   "cell_type": "markdown",
   "id": "bc98a3e8-97e8-4e3e-9c0c-befa89502ca0",
   "metadata": {},
   "source": [
    "15. Check if a person is a teenager:"
   ]
  },
  {
   "cell_type": "code",
   "execution_count": 9,
   "id": "3785ecb9-ec91-491d-b5cc-6ed7bf4f10e2",
   "metadata": {},
   "outputs": [
    {
     "name": "stdin",
     "output_type": "stream",
     "text": [
      "enter your age 17\n"
     ]
    },
    {
     "name": "stdout",
     "output_type": "stream",
     "text": [
      "the person is a teenager\n"
     ]
    }
   ],
   "source": [
    "age = int(input('enter your age'))\n",
    "\n",
    "if age > 18:\n",
    "    print('the person is not a teenager')\n",
    "else:\n",
    "    print('the person is a teenager')"
   ]
  },
  {
   "cell_type": "markdown",
   "id": "361e3f76-7d18-408d-9682-166b184282ed",
   "metadata": {},
   "source": [
    "16. Determine the type of angle based on its measure:"
   ]
  },
  {
   "cell_type": "code",
   "execution_count": 10,
   "id": "b7e346e1-1df7-4c6e-aa7b-8a4a458865cd",
   "metadata": {},
   "outputs": [
    {
     "name": "stdin",
     "output_type": "stream",
     "text": [
      "Enter the measure of the angle:  25\n"
     ]
    },
    {
     "name": "stdout",
     "output_type": "stream",
     "text": [
      "The angle is acute.\n"
     ]
    }
   ],
   "source": [
    "angle_measure = float(input(\"Enter the measure of the angle: \"))\n",
    "\n",
    "if angle_measure < 90:\n",
    "    print(\"The angle is acute.\")\n",
    "elif angle_measure == 90:\n",
    "    print(\"The angle is right.\")\n",
    "else:\n",
    "    print(\"The angle is obtuse.\")\n"
   ]
  },
  {
   "cell_type": "markdown",
   "id": "24e693cd-3915-481c-a0ae-d9fe86a1e17d",
   "metadata": {},
   "source": [
    "17. Calculate the roots of a quadratic equation:"
   ]
  },
  {
   "cell_type": "code",
   "execution_count": 11,
   "id": "58f2077f-edcf-496e-a0cb-26fb59f1dc89",
   "metadata": {},
   "outputs": [
    {
     "name": "stdin",
     "output_type": "stream",
     "text": [
      "Enter the coefficient a:  5\n",
      "Enter the coefficient b:  6\n",
      "Enter the coefficient c:  7\n"
     ]
    },
    {
     "name": "stdout",
     "output_type": "stream",
     "text": [
      "The roots are complex: -0.6 + 1.0198039027185568i and -0.6 - 1.0198039027185568i\n"
     ]
    }
   ],
   "source": [
    "import math\n",
    "\n",
    "a = float(input(\"Enter the coefficient a: \"))\n",
    "b = float(input(\"Enter the coefficient b: \"))\n",
    "c = float(input(\"Enter the coefficient c: \"))\n",
    "\n",
    "discriminant = b**2 - 4*a*c\n",
    "\n",
    "if discriminant > 0:\n",
    "    root1 = (-b + math.sqrt(discriminant)) / (2*a)\n",
    "    root2 = (-b - math.sqrt(discriminant)) / (2*a)\n",
    "    print(f\"The roots are real and distinct: {root1} and {root2}\")\n",
    "elif discriminant == 0:\n",
    "    root = -b / (2*a)\n",
    "    print(f\"The root is real and equal: {root}\")\n",
    "else:\n",
    "    real_part = -b / (2*a)\n",
    "    imag_part = math.sqrt(abs(discriminant)) / (2*a)\n",
    "    print(f\"The roots are complex: {real_part} + {imag_part}i and {real_part} - {imag_part}i\")\n"
   ]
  },
  {
   "cell_type": "markdown",
   "id": "429c178a-019a-46b1-9d74-e58aab2eb4ea",
   "metadata": {},
   "source": [
    "18. Determine the day of the week based on a user-provided number:"
   ]
  },
  {
   "cell_type": "code",
   "execution_count": 12,
   "id": "9f834b79-608c-4c4b-9ce7-960810d08f7c",
   "metadata": {},
   "outputs": [
    {
     "name": "stdin",
     "output_type": "stream",
     "text": [
      "Enter a number (1 for Monday, 2 for Tuesday, etc.):  2\n"
     ]
    },
    {
     "name": "stdout",
     "output_type": "stream",
     "text": [
      "The day is Tuesday.\n"
     ]
    }
   ],
   "source": [
    "day_number = int(input(\"Enter a number (1 for Monday, 2 for Tuesday, etc.): \"))\n",
    "\n",
    "if 1 <= day_number <= 7:\n",
    "    days_of_week = [\"Monday\", \"Tuesday\", \"Wednesday\", \"Thursday\", \"Friday\", \"Saturday\", \"Sunday\"]\n",
    "    print(f\"The day is {days_of_week[day_number - 1]}.\")\n",
    "else:\n",
    "    print(\"Invalid input.\")\n"
   ]
  },
  {
   "cell_type": "markdown",
   "id": "ede5d34f-01ed-4e00-bbe9-348699f4324f",
   "metadata": {},
   "source": [
    "19. Check if a year is a leap year and also if it is evenly divisible by 400:"
   ]
  },
  {
   "cell_type": "code",
   "execution_count": 13,
   "id": "98d43460-b1ac-450e-b90e-eb784b8dd7a8",
   "metadata": {},
   "outputs": [
    {
     "name": "stdin",
     "output_type": "stream",
     "text": [
      "Enter a year:  2024\n"
     ]
    },
    {
     "name": "stdout",
     "output_type": "stream",
     "text": [
      "2024 is a leap year.\n"
     ]
    }
   ],
   "source": [
    "year = int(input(\"Enter a year: \"))\n",
    "\n",
    "if year % 4 == 0:\n",
    "    if year % 100 == 0:\n",
    "        if year % 400 == 0:\n",
    "            print(f\"{year} is a leap year and evenly divisible by 400.\")\n",
    "        else:\n",
    "            print(f\"{year} is a leap year but not evenly divisible by 400.\")\n",
    "    else:\n",
    "        print(f\"{year} is a leap year.\")\n",
    "else:\n",
    "    print(f\"{year} is not a leap year.\")\n"
   ]
  },
  {
   "cell_type": "markdown",
   "id": "636cadd4-9182-4585-a04f-f10343c110aa",
   "metadata": {},
   "source": [
    "20. Check if a given number is prime or not:"
   ]
  },
  {
   "cell_type": "code",
   "execution_count": 14,
   "id": "d1c2235c-822d-4382-a9e3-a731f44eaa4d",
   "metadata": {},
   "outputs": [
    {
     "name": "stdin",
     "output_type": "stream",
     "text": [
      "Enter a number:  35\n"
     ]
    },
    {
     "name": "stdout",
     "output_type": "stream",
     "text": [
      "35 is not a prime number.\n"
     ]
    }
   ],
   "source": [
    "number = int(input(\"Enter a number: \"))\n",
    "\n",
    "if number > 1:\n",
    "    for i in range(2, int(number**0.5) + 1):\n",
    "        if (number % i) == 0:\n",
    "            print(f\"{number} is not a prime number.\")\n",
    "            break\n",
    "    else:\n",
    "        print(f\"{number} is a prime number.\")\n",
    "elif number == 1:\n",
    "    print(\"1 is not a prime number.\")\n",
    "else:\n",
    "    print(f\"{number} is not a prime number.\")\n"
   ]
  },
  {
   "cell_type": "markdown",
   "id": "1a90606b-b7d3-4b22-8b24-c4fa8bea79c7",
   "metadata": {},
   "source": [
    "21. Write a Python program to assign grades based on different ranges of scores using elif statements."
   ]
  },
  {
   "cell_type": "code",
   "execution_count": 15,
   "id": "ac93d388-ba5e-429e-a7d7-04b0b3251533",
   "metadata": {},
   "outputs": [
    {
     "name": "stdin",
     "output_type": "stream",
     "text": [
      "enter your score 30\n"
     ]
    },
    {
     "name": "stdout",
     "output_type": "stream",
     "text": [
      "fail\n"
     ]
    }
   ],
   "source": [
    "score = int(input('enter your score'))\n",
    "\n",
    "if score >= 90:\n",
    "    grade = 'A'\n",
    "elif score >= 80:\n",
    "    grade = 'B'\n",
    "elif score >=70:\n",
    "    grade = 'C'\n",
    "elif score >= 60:\n",
    "    grade = 'D'\n",
    "else:\n",
    "    print('fail')"
   ]
  },
  {
   "cell_type": "markdown",
   "id": "172cbe81-dd38-451a-9f11-1bb68af88bcd",
   "metadata": {},
   "source": [
    "22. Implement a program to determine the type of a triangle based on its angles.\n"
   ]
  },
  {
   "cell_type": "code",
   "execution_count": 3,
   "id": "2aa0181d-ef77-4053-be32-ce64eb34c3aa",
   "metadata": {},
   "outputs": [
    {
     "name": "stdin",
     "output_type": "stream",
     "text": [
      "Enter the first angle of the triangle:  60\n",
      "Enter the second angle of the triangle:  60\n",
      "Enter the third angle of the triangle:  60\n"
     ]
    },
    {
     "name": "stdout",
     "output_type": "stream",
     "text": [
      "Equilateral triangle\n"
     ]
    }
   ],
   "source": [
    "angle1 = int(input(\"Enter the first angle of the triangle: \"))\n",
    "angle2 = int(input(\"Enter the second angle of the triangle: \"))\n",
    "angle3 = int(input(\"Enter the third angle of the triangle: \"))\n",
    "\n",
    "if angle1 + angle2 + angle3 == 180:\n",
    "    if angle1 == angle2 == angle3:\n",
    "        print(\"Equilateral triangle\")\n",
    "    elif angle1 == angle2 or angle1 == angle3 or angle2 == angle3:\n",
    "        print(\"Isosceles triangle\")\n",
    "    else:\n",
    "        print(\"Scalene triangle\")\n",
    "else:\n",
    "    print(\"Invalid triangle\")\n"
   ]
  },
  {
   "cell_type": "markdown",
   "id": "8c32e129-f5e4-4966-ac2a-978114dca2d2",
   "metadata": {},
   "source": [
    "23. Develop a program to categorize a given person's BMI into underweight, normal, overweight, or obese using elif statements.\n"
   ]
  },
  {
   "cell_type": "code",
   "execution_count": 1,
   "id": "4fba3dfe-4dc9-4a47-96e2-5bec4b45fc10",
   "metadata": {},
   "outputs": [
    {
     "name": "stdin",
     "output_type": "stream",
     "text": [
      "Enter weight in kilograms:  64\n",
      "Enter height in meters:  181\n"
     ]
    },
    {
     "name": "stdout",
     "output_type": "stream",
     "text": [
      "The person is Underweight\n"
     ]
    }
   ],
   "source": [
    "weight = float(input(\"Enter weight in kilograms: \"))\n",
    "height = float(input(\"Enter height in meters: \"))\n",
    "\n",
    "bmi = weight / (height ** 2)\n",
    "\n",
    "if bmi < 18.5:\n",
    "    category = 'Underweight'\n",
    "elif 18.5 <= bmi < 25:\n",
    "    category = 'Normal weight'\n",
    "elif 25 <= bmi < 30:\n",
    "    category = 'Overweight'\n",
    "else:\n",
    "    category = 'Obese'\n",
    "\n",
    "print(f\"The person is {category}\")\n"
   ]
  },
  {
   "cell_type": "markdown",
   "id": "0d1b9e4a-4a5c-4563-a0be-23879f52c142",
   "metadata": {},
   "source": [
    "24. Create a program that determines whether a given number is positive, negative, or zero using elif statements.\n"
   ]
  },
  {
   "cell_type": "code",
   "execution_count": 7,
   "id": "3ad1df1d-5476-4e12-834a-c66ea6a6db54",
   "metadata": {},
   "outputs": [
    {
     "name": "stdin",
     "output_type": "stream",
     "text": [
      "enter positive or negative number -15\n"
     ]
    },
    {
     "name": "stdout",
     "output_type": "stream",
     "text": [
      "-15 is negative number\n"
     ]
    }
   ],
   "source": [
    "num = int(input('enter positive or negative number'))\n",
    "\n",
    "if num > 0:\n",
    "    print(num, 'is positive number')\n",
    "elif num < 0:\n",
    "    print(num,'is negative number')\n",
    "else:\n",
    "    print('invalid number')"
   ]
  },
  {
   "cell_type": "markdown",
   "id": "6aad8086-8e2a-444f-aa0e-6d0793d628eb",
   "metadata": {},
   "source": [
    "25. Write a Python script to determine the type of a character (uppercase, lowercase, or special) using elif statements.\n"
   ]
  },
  {
   "cell_type": "code",
   "execution_count": 9,
   "id": "dd1be2ee-26a9-4b73-b402-7d74af7a10f3",
   "metadata": {},
   "outputs": [
    {
     "name": "stdin",
     "output_type": "stream",
     "text": [
      "enter a character BYEE\n"
     ]
    },
    {
     "name": "stdout",
     "output_type": "stream",
     "text": [
      "character is uppercase\n"
     ]
    }
   ],
   "source": [
    "char = input('enter a character')\n",
    "\n",
    "if char.upper:\n",
    "    print('character is uppercase')\n",
    "elif char.lower:\n",
    "    print('charater is lowercase')\n",
    "else:\n",
    "    print('special character')"
   ]
  },
  {
   "cell_type": "markdown",
   "id": "8b15042e-ac77-474f-a1f5-36a1f5649268",
   "metadata": {},
   "source": [
    "26. Implement a program to calculate the discounted price based on different purchase amounts using elif statements.\n"
   ]
  },
  {
   "cell_type": "code",
   "execution_count": 10,
   "id": "652cd824-24a4-4301-a92f-0826c8641f62",
   "metadata": {},
   "outputs": [
    {
     "name": "stdin",
     "output_type": "stream",
     "text": [
      "Enter the purchase amount:  1065\n"
     ]
    },
    {
     "name": "stdout",
     "output_type": "stream",
     "text": [
      "The discounted price is: 958.5\n"
     ]
    }
   ],
   "source": [
    "purchase_amount = float(input(\"Enter the purchase amount: \"))\n",
    "\n",
    "if purchase_amount >= 1000:\n",
    "    discount_rate = 0.1\n",
    "elif purchase_amount >= 500:\n",
    "    discount_rate = 0.05\n",
    "else:\n",
    "    discount_rate = 0\n",
    "\n",
    "discounted_price = purchase_amount - (purchase_amount * discount_rate)\n",
    "print(f\"The discounted price is: {discounted_price}\")\n"
   ]
  },
  {
   "cell_type": "markdown",
   "id": "962683d7-9695-4aa4-a2d3-e406628e9d9c",
   "metadata": {},
   "source": [
    "27. Develop a program to calculate the electricity bill based on different consumption slabs using elif statements.\n"
   ]
  },
  {
   "cell_type": "code",
   "execution_count": 11,
   "id": "94c6a9bf-4be3-40a2-ac97-e0fc68f40a9b",
   "metadata": {},
   "outputs": [
    {
     "name": "stdin",
     "output_type": "stream",
     "text": [
      "Enter the electricity consumption in kilowatt-hours:  1564\n"
     ]
    },
    {
     "name": "stdout",
     "output_type": "stream",
     "text": [
      "The electricity bill is: 1756.8\n"
     ]
    }
   ],
   "source": [
    "consumption = float(input(\"Enter the electricity consumption in kilowatt-hours: \"))\n",
    "\n",
    "if consumption <= 100:\n",
    "    bill = consumption * 0.5\n",
    "elif consumption <= 200:\n",
    "    bill = 100 * 0.5 + (consumption - 100) * 0.7\n",
    "else:\n",
    "    bill = 100 * 0.5 + 100 * 0.7 + (consumption - 200) * 1.2\n",
    "\n",
    "print(f\"The electricity bill is: {bill}\")\n"
   ]
  },
  {
   "cell_type": "markdown",
   "id": "bfaca566-c726-4b1f-8281-93d496f10bb5",
   "metadata": {},
   "source": [
    "28. Create a program to determine the type of quadrilateral based on its angles and sides using elif statements.\n"
   ]
  },
  {
   "cell_type": "code",
   "execution_count": 13,
   "id": "500edd91-9b91-4ebf-aa12-3b4672747075",
   "metadata": {},
   "outputs": [
    {
     "name": "stdin",
     "output_type": "stream",
     "text": [
      "Enter the first angle of the quadrilateral:  10\n",
      "Enter the second angle of the quadrilateral:  10\n",
      "Enter the third angle of the quadrilateral:  10\n",
      "Enter the fourth angle of the quadrilateral:  10\n"
     ]
    },
    {
     "name": "stdout",
     "output_type": "stream",
     "text": [
      "Rhombus\n"
     ]
    }
   ],
   "source": [
    "angle1 = int(input(\"Enter the first angle of the quadrilateral: \"))\n",
    "angle2 = int(input(\"Enter the second angle of the quadrilateral: \"))\n",
    "angle3 = int(input(\"Enter the third angle of the quadrilateral: \"))\n",
    "angle4 = int(input(\"Enter the fourth angle of the quadrilateral: \"))\n",
    "\n",
    "if angle1 == angle2 == angle3 == angle4 == 90:\n",
    "    print(\"Rectangle\")\n",
    "elif angle1 == angle2 == angle3 == angle4:\n",
    "    print(\"Rhombus\")\n",
    "else:\n",
    "    print(\"Other type of quadrilateral\")\n"
   ]
  },
  {
   "cell_type": "markdown",
   "id": "8b7a54ff-fe8a-4c7a-b5ba-9a5141d662f4",
   "metadata": {},
   "source": [
    "29. Write a Python script to determine the season based on a user-provided month using elif statements.\n"
   ]
  },
  {
   "cell_type": "code",
   "execution_count": 20,
   "id": "48699813-65aa-4258-b886-dd86e4dce163",
   "metadata": {},
   "outputs": [
    {
     "name": "stdin",
     "output_type": "stream",
     "text": [
      "enter a month march\n"
     ]
    },
    {
     "name": "stdout",
     "output_type": "stream",
     "text": [
      "it is spring season\n"
     ]
    }
   ],
   "source": [
    "month = input('enter a month')\n",
    "\n",
    "if month in ['december','january','feberuary']:\n",
    "    print('it is winter')\n",
    "elif month in ['march','april','may']:\n",
    "    print('it is spring season')\n",
    "elif month in ['june','july','august']:\n",
    "    print('it is summer season')\n",
    "elif month in ['september','october','november']:\n",
    "    print('it is rainy season')\n",
    "else:\n",
    "    print('invalid season')"
   ]
  },
  {
   "cell_type": "markdown",
   "id": "220a9439-2d7a-4cba-9af6-6f25a6bac88a",
   "metadata": {},
   "source": [
    "30. Implement a program to determine the type of a year (leap or common) and month (30 or 31 days) using elif statements.\n"
   ]
  },
  {
   "cell_type": "code",
   "execution_count": 23,
   "id": "2d5d048f-58d2-4df2-a00c-537c4fc29afe",
   "metadata": {},
   "outputs": [
    {
     "name": "stdin",
     "output_type": "stream",
     "text": [
      "Enter the year:  2024\n",
      "Enter the month:  june\n"
     ]
    },
    {
     "name": "stdout",
     "output_type": "stream",
     "text": [
      "The year is Leap year and the month has 30 days\n"
     ]
    }
   ],
   "source": [
    "year = int(input(\"Enter the year: \"))\n",
    "month = input(\"Enter the month: \").lower()\n",
    "\n",
    "if (year % 4 == 0 and year % 100 != 0) or (year % 400 == 0):\n",
    "    year_type = 'Leap year'\n",
    "else:\n",
    "    year_type = 'Common year'\n",
    "\n",
    "if month in ['january', 'march', 'may', 'july', 'august', 'october', 'december']:\n",
    "    month_days = 31\n",
    "elif month in ['april', 'june', 'september', 'november']:\n",
    "    month_days = 30\n",
    "elif month == 'february':\n",
    "    month_days = 29 if year_type == 'Leap year' else 28\n",
    "else:\n",
    "    month_days = 'Invalid month'\n",
    "\n",
    "print(f\"The year is {year_type} and the month has {month_days} days\")\n"
   ]
  },
  {
   "cell_type": "markdown",
   "id": "51f0028b-f51c-4418-ab14-92a73f9a70c6",
   "metadata": {},
   "source": [
    "Basic Level:"
   ]
  },
  {
   "cell_type": "markdown",
   "id": "945044ab-e441-44c9-ba66-74e7c0c8f39d",
   "metadata": {},
   "source": [
    "1. Write a Python program to check if a given number is positive or negative.\n"
   ]
  },
  {
   "cell_type": "code",
   "execution_count": 25,
   "id": "1b50c3ee-02d7-4f38-b935-e29bc948fade",
   "metadata": {},
   "outputs": [
    {
     "name": "stdin",
     "output_type": "stream",
     "text": [
      "Enter a number:  20\n"
     ]
    },
    {
     "name": "stdout",
     "output_type": "stream",
     "text": [
      "Positive number\n"
     ]
    }
   ],
   "source": [
    "number = float(input(\"Enter a number: \"))\n",
    "if number > 0:\n",
    "    print(\"Positive number\")\n",
    "elif number < 0:\n",
    "    print(\"Negative number\")\n",
    "else:\n",
    "    print(\"Zero\")\n"
   ]
  },
  {
   "cell_type": "markdown",
   "id": "f4586e6a-78b7-4881-b284-bbe3b94b1128",
   "metadata": {},
   "source": [
    "2. Create a program that determines if a person is eligible to vote based on their age.\n"
   ]
  },
  {
   "cell_type": "code",
   "execution_count": 26,
   "id": "57ea11d1-0e8e-4281-863d-d46d9e809ec8",
   "metadata": {},
   "outputs": [
    {
     "name": "stdin",
     "output_type": "stream",
     "text": [
      "Enter your age:  20\n"
     ]
    },
    {
     "name": "stdout",
     "output_type": "stream",
     "text": [
      "You are eligible to vote\n"
     ]
    }
   ],
   "source": [
    "age = int(input(\"Enter your age: \"))\n",
    "if age >= 18:\n",
    "    print(\"You are eligible to vote\")\n",
    "else:\n",
    "    print(\"You are not eligible to vote\")\n"
   ]
  },
  {
   "cell_type": "markdown",
   "id": "21b0ad7e-f875-4e44-bb51-5c9eb913c29c",
   "metadata": {},
   "source": [
    "3. Develop a program to find the maximum of two numbers using if-else statements.\n"
   ]
  },
  {
   "cell_type": "code",
   "execution_count": 27,
   "id": "24919561-59f2-42d4-9d56-2e03e9349b79",
   "metadata": {},
   "outputs": [
    {
     "name": "stdin",
     "output_type": "stream",
     "text": [
      "Enter the first number:  20\n",
      "Enter the second number:  65\n"
     ]
    },
    {
     "name": "stdout",
     "output_type": "stream",
     "text": [
      "Maximum number: 65.0\n"
     ]
    }
   ],
   "source": [
    "num1 = float(input(\"Enter the first number: \"))\n",
    "num2 = float(input(\"Enter the second number: \"))\n",
    "if num1 > num2:\n",
    "    print(\"Maximum number:\", num1)\n",
    "else:\n",
    "    print(\"Maximum number:\", num2)\n"
   ]
  },
  {
   "cell_type": "markdown",
   "id": "903f699e-0424-4336-bd1b-2a631e67f6c7",
   "metadata": {},
   "source": [
    "4. Write a Python script to classify a given year as a leap year or not.\n"
   ]
  },
  {
   "cell_type": "code",
   "execution_count": 28,
   "id": "40f59fea-619f-4ebd-9633-7eefbad7c236",
   "metadata": {},
   "outputs": [
    {
     "name": "stdin",
     "output_type": "stream",
     "text": [
      "Enter a year:  2024\n"
     ]
    },
    {
     "name": "stdout",
     "output_type": "stream",
     "text": [
      "Leap year\n"
     ]
    }
   ],
   "source": [
    "year = int(input(\"Enter a year: \"))\n",
    "if (year % 4 == 0 and year % 100 != 0) or (year % 400 == 0):\n",
    "    print(\"Leap year\")\n",
    "else:\n",
    "    print(\"Not a leap year\")\n"
   ]
  },
  {
   "cell_type": "markdown",
   "id": "2dcdd5be-45ea-4699-85d3-4cd35d56db82",
   "metadata": {},
   "source": [
    "5. Create a program that checks whether a character is a vowel or a consonant.\n"
   ]
  },
  {
   "cell_type": "code",
   "execution_count": 30,
   "id": "5fd5f125-bdf5-44e4-97e9-7e5f46583715",
   "metadata": {},
   "outputs": [
    {
     "name": "stdin",
     "output_type": "stream",
     "text": [
      "Enter a character:  byee\n"
     ]
    },
    {
     "name": "stdout",
     "output_type": "stream",
     "text": [
      "Consonant\n"
     ]
    }
   ],
   "source": [
    "char = input(\"Enter a character: \").lower()\n",
    "if char.isalpha():\n",
    "    if char in 'aeiou':\n",
    "        print(\"Vowel\")\n",
    "    else:\n",
    "        print(\"Consonant\")\n",
    "else:\n",
    "    print(\"Not a valid character\")\n"
   ]
  },
  {
   "cell_type": "markdown",
   "id": "8e98b103-c99f-4b32-849a-ffb9608db8eb",
   "metadata": {},
   "source": [
    "6. Implement a program to determine whether a given number is even or odd.\n"
   ]
  },
  {
   "cell_type": "code",
   "execution_count": 31,
   "id": "732894c5-cbcb-4eaa-841e-dc8dd8c322f9",
   "metadata": {},
   "outputs": [
    {
     "name": "stdin",
     "output_type": "stream",
     "text": [
      "Enter a number:  15\n"
     ]
    },
    {
     "name": "stdout",
     "output_type": "stream",
     "text": [
      "Odd number\n"
     ]
    }
   ],
   "source": [
    "num = int(input(\"Enter a number: \"))\n",
    "if num % 2 == 0:\n",
    "    print(\"Even number\")\n",
    "else:\n",
    "    print(\"Odd number\")\n"
   ]
  },
  {
   "cell_type": "markdown",
   "id": "6a8b9b24-b51a-4101-bb24-4a4396c2a4eb",
   "metadata": {},
   "source": [
    "7. Write a Python function to calculate the absolute value of a number without using the `abs()` function."
   ]
  },
  {
   "cell_type": "code",
   "execution_count": 32,
   "id": "0623b1ad-a1e0-4a9d-a97d-30336d28730b",
   "metadata": {},
   "outputs": [
    {
     "name": "stdin",
     "output_type": "stream",
     "text": [
      "Enter a number:  35\n"
     ]
    },
    {
     "name": "stdout",
     "output_type": "stream",
     "text": [
      "Absolute value: 35.0\n"
     ]
    }
   ],
   "source": [
    "num = float(input(\"Enter a number: \"))\n",
    "if num < 0:\n",
    "    abs_value = -num\n",
    "else:\n",
    "    abs_value = num\n",
    "print(\"Absolute value:\", abs_value)\n"
   ]
  },
  {
   "cell_type": "markdown",
   "id": "2665d126-2e6d-4d34-abc2-8bff41df2f2d",
   "metadata": {},
   "source": [
    "8. Develop a program that determines the largest of three given numbers using if-else statements.\n"
   ]
  },
  {
   "cell_type": "code",
   "execution_count": 33,
   "id": "cb3e4420-fe2b-42ff-b5f6-d5437284dd81",
   "metadata": {},
   "outputs": [
    {
     "name": "stdin",
     "output_type": "stream",
     "text": [
      "Enter the first number:  62\n",
      "Enter the second number:  38\n",
      "Enter the third number:  64\n"
     ]
    },
    {
     "name": "stdout",
     "output_type": "stream",
     "text": [
      "Largest number: 64.0\n"
     ]
    }
   ],
   "source": [
    "num1 = float(input(\"Enter the first number: \"))\n",
    "num2 = float(input(\"Enter the second number: \"))\n",
    "num3 = float(input(\"Enter the third number: \"))\n",
    "max_num = max(num1, num2, num3)\n",
    "print(\"Largest number:\", max_num)\n"
   ]
  },
  {
   "cell_type": "markdown",
   "id": "a089dba7-1c16-4195-b4e5-1e194b91506e",
   "metadata": {},
   "source": [
    "9. Create a program that checks if a given string is a palindrome.\n"
   ]
  },
  {
   "cell_type": "code",
   "execution_count": 34,
   "id": "2608ce09-1ad8-4a93-ac72-61382715d339",
   "metadata": {},
   "outputs": [
    {
     "name": "stdin",
     "output_type": "stream",
     "text": [
      "Enter a string:  pwskills\n"
     ]
    },
    {
     "name": "stdout",
     "output_type": "stream",
     "text": [
      "Not a palindrome\n"
     ]
    }
   ],
   "source": [
    "string = input(\"Enter a string: \")\n",
    "if string == string[::-1]:\n",
    "    print(\"Palindrome\")\n",
    "else:\n",
    "    print(\"Not a palindrome\")\n"
   ]
  },
  {
   "cell_type": "markdown",
   "id": "941aa0bf-5330-431f-9173-b2aa7babe851",
   "metadata": {},
   "source": [
    "10. Write a Python program to calculate the grade based on a student's score.\n"
   ]
  },
  {
   "cell_type": "code",
   "execution_count": 36,
   "id": "cd5cbe64-4072-4656-a1b0-3e7fc1c2584e",
   "metadata": {},
   "outputs": [
    {
     "name": "stdin",
     "output_type": "stream",
     "text": [
      "Enter the student's score:  99\n"
     ]
    },
    {
     "name": "stdout",
     "output_type": "stream",
     "text": [
      "Grade: A\n"
     ]
    }
   ],
   "source": [
    "score = float(input(\"Enter the student's score: \"))\n",
    "if 90 <= score <= 100:\n",
    "    print(\"Grade: A\")\n",
    "elif 80 <= score < 90:\n",
    "    print(\"Grade: B\")\n",
    "elif 70 <= score < 80:\n",
    "    print(\"Grade: C\")\n",
    "elif 60 <= score < 70:\n",
    "    print(\"Grade: D\")\n",
    "else:\n",
    "    print(\"Grade: F\")\n"
   ]
  },
  {
   "cell_type": "markdown",
   "id": "d28f0335-9438-46f9-a59d-28f02f02b724",
   "metadata": {},
   "source": [
    "Intermediate Level:"
   ]
  },
  {
   "cell_type": "markdown",
   "id": "2915ea6f-1892-4e30-aac3-3916d861841f",
   "metadata": {},
   "source": [
    "11. Write a program that calculates the roots of a quadratic equation .\n"
   ]
  },
  {
   "cell_type": "code",
   "execution_count": 2,
   "id": "6bef2267-5e26-4c69-9982-0a29a0c0de12",
   "metadata": {},
   "outputs": [
    {
     "name": "stdin",
     "output_type": "stream",
     "text": [
      "Enter coefficient a:  20\n",
      "Enter coefficient b:  34\n",
      "Enter coefficient c:  64\n"
     ]
    },
    {
     "name": "stdout",
     "output_type": "stream",
     "text": [
      "Roots are complex: -0.85 + 1.5740076238697194 i and -0.85 - 1.5740076238697194 i\n"
     ]
    }
   ],
   "source": [
    "a = float(input(\"Enter coefficient a: \"))\n",
    "b = float(input(\"Enter coefficient b: \"))\n",
    "c = float(input(\"Enter coefficient c: \"))\n",
    "\n",
    "discriminant = b**2 - 4*a*c\n",
    "\n",
    "if discriminant > 0:\n",
    "    root1 = (-b + (discriminant)**0.5) / (2*a)\n",
    "    root2 = (-b - (discriminant)**0.5) / (2*a)\n",
    "    print(\"Roots are real and distinct:\", root1, \"and\", root2)\n",
    "elif discriminant == 0:\n",
    "    root = -b / (2*a)\n",
    "    print(\"Root is real and equal:\", root)\n",
    "else:\n",
    "    real_part = -b / (2*a)\n",
    "    imag_part = (abs(discriminant)**0.5) / (2*a)\n",
    "    print(\"Roots are complex:\", real_part, \"+\", imag_part, \"i and\", real_part, \"-\", imag_part, \"i\")\n"
   ]
  },
  {
   "cell_type": "markdown",
   "id": "9fcb6893-e8fb-4927-afc7-efdbac15d244",
   "metadata": {},
   "source": [
    "12. Create a program that determines the day of the week based on the day number (1-7).\n"
   ]
  },
  {
   "cell_type": "code",
   "execution_count": 3,
   "id": "f0b58c5e-2234-49c2-8478-b32fd393f622",
   "metadata": {},
   "outputs": [
    {
     "name": "stdin",
     "output_type": "stream",
     "text": [
      "Enter day number (1-7):  5\n"
     ]
    },
    {
     "name": "stdout",
     "output_type": "stream",
     "text": [
      "Day of the week is: Friday\n"
     ]
    }
   ],
   "source": [
    "day_number = int(input(\"Enter day number (1-7): \"))\n",
    "days_of_week = [\"Monday\", \"Tuesday\", \"Wednesday\", \"Thursday\", \"Friday\", \"Saturday\", \"Sunday\"]\n",
    "\n",
    "if 1 <= day_number <= 7:\n",
    "    print(\"Day of the week is:\", days_of_week[day_number - 1])\n",
    "else:\n",
    "    print(\"Invalid day number.\")\n"
   ]
  },
  {
   "cell_type": "markdown",
   "id": "dd7d4a13-fedc-4d5a-8afa-197d15e8c41d",
   "metadata": {},
   "source": [
    "13. Develop a program that calculates the factorial of a given number using recursion.\n"
   ]
  },
  {
   "cell_type": "code",
   "execution_count": 14,
   "id": "f66f74c2-b836-4962-a2b2-030e94baba78",
   "metadata": {},
   "outputs": [
    {
     "name": "stdin",
     "output_type": "stream",
     "text": [
      "Enter a number:  25\n"
     ]
    },
    {
     "name": "stdout",
     "output_type": "stream",
     "text": [
      "The factorial of 25 is: 15511210043330985984000000\n"
     ]
    }
   ],
   "source": [
    "# Factorial Calculation using Recursion\n",
    "\n",
    "n = int(input(\"Enter a number: \"))\n",
    "\n",
    "# Recursive function to calculate factorial\n",
    "def factorial(num):\n",
    "    if num == 0 or num == 1:\n",
    "        return 1\n",
    "    else:\n",
    "        return num * factorial(num - 1)\n",
    "\n",
    "result = factorial(n)\n",
    "print(f\"The factorial of {n} is: {result}\")\n"
   ]
  },
  {
   "cell_type": "markdown",
   "id": "290ae02f-99f5-4be6-bb90-d753ed0e99b0",
   "metadata": {},
   "source": [
    "14. Write a program to find the largest among three numbers without using the `max()` function.\n"
   ]
  },
  {
   "cell_type": "code",
   "execution_count": 7,
   "id": "aead0e97-6f6e-4503-82e9-7fe2b4f1a1f8",
   "metadata": {},
   "outputs": [
    {
     "name": "stdin",
     "output_type": "stream",
     "text": [
      "Enter first number:  54\n",
      "Enter second number:  61\n",
      "Enter third number:  34\n"
     ]
    },
    {
     "name": "stdout",
     "output_type": "stream",
     "text": [
      "Largest number: 61.0\n"
     ]
    }
   ],
   "source": [
    "num1 = float(input(\"Enter first number: \"))\n",
    "num2 = float(input(\"Enter second number: \"))\n",
    "num3 = float(input(\"Enter third number: \"))\n",
    "\n",
    "largest = num1 if num1 > num2 and num1 > num3 else (num2 if num2 > num3 else num3)\n",
    "print(\"Largest number:\", largest)\n"
   ]
  },
  {
   "cell_type": "markdown",
   "id": "5263353d-bd47-4220-93be-848969fff522",
   "metadata": {},
   "source": [
    "15. Create a program that simulates a basic ATM transaction menu.\n"
   ]
  },
  {
   "cell_type": "code",
   "execution_count": 9,
   "id": "012c0586-c234-4f83-a173-dc79825e6cfe",
   "metadata": {},
   "outputs": [
    {
     "name": "stdout",
     "output_type": "stream",
     "text": [
      "1. Check Balance\n",
      "2. Deposit\n",
      "3. Withdraw\n"
     ]
    },
    {
     "name": "stdin",
     "output_type": "stream",
     "text": [
      "Enter choice (1-3):  3\n",
      "Enter withdrawal amount:  250\n"
     ]
    },
    {
     "name": "stdout",
     "output_type": "stream",
     "text": [
      "Withdrawal successful. New balance: 750.0\n"
     ]
    }
   ],
   "source": [
    "balance = 1000  # Initial balance\n",
    "\n",
    "print(\"1. Check Balance\")\n",
    "print(\"2. Deposit\")\n",
    "print(\"3. Withdraw\")\n",
    "\n",
    "choice = int(input(\"Enter choice (1-3): \"))\n",
    "\n",
    "if choice == 1:\n",
    "    print(\"Balance:\", balance)\n",
    "elif choice == 2:\n",
    "    amount = float(input(\"Enter deposit amount: \"))\n",
    "    balance += amount\n",
    "    print(\"Deposit successful. New balance:\", balance)\n",
    "elif choice == 3:\n",
    "    amount = float(input(\"Enter withdrawal amount: \"))\n",
    "    if amount <= balance:\n",
    "        balance -= amount\n",
    "        print(\"Withdrawal successful. New balance:\", balance)\n",
    "    else:\n",
    "        print(\"Insufficient funds.\")\n",
    "else:\n",
    "    print(\"Invalid choice.\")\n"
   ]
  },
  {
   "cell_type": "markdown",
   "id": "809bbd67-1f7d-4de9-bb30-c494ee1b064e",
   "metadata": {},
   "source": [
    "16. Build a program that checks if a given string is a palindrome or not.\n"
   ]
  },
  {
   "cell_type": "code",
   "execution_count": 10,
   "id": "6e8fa07a-e8fc-46df-a284-dea3b53d3cf9",
   "metadata": {},
   "outputs": [
    {
     "name": "stdin",
     "output_type": "stream",
     "text": [
      "Enter a string:  siddharth\n"
     ]
    },
    {
     "name": "stdout",
     "output_type": "stream",
     "text": [
      "Not a palindrome\n"
     ]
    }
   ],
   "source": [
    "string = input(\"Enter a string: \")\n",
    "\n",
    "if string == string[::-1]:\n",
    "    print(\"Palindrome\")\n",
    "else:\n",
    "    print(\"Not a palindrome\")\n"
   ]
  },
  {
   "cell_type": "markdown",
   "id": "07964c15-3149-42f7-b82e-b7e4651d0e96",
   "metadata": {},
   "source": [
    "17. Write a program that calculates the average of a list of numbers, excluding the smallest and largest values.\n"
   ]
  },
  {
   "cell_type": "code",
   "execution_count": 11,
   "id": "2e473fd7-3dc1-47a2-83b5-a4f18513908a",
   "metadata": {},
   "outputs": [
    {
     "name": "stdin",
     "output_type": "stream",
     "text": [
      "Enter a list of numbers separated by space:  2 3 5 6 8\n"
     ]
    },
    {
     "name": "stdout",
     "output_type": "stream",
     "text": [
      "Average (excluding min and max): 4.666666666666667\n"
     ]
    }
   ],
   "source": [
    "numbers = [float(x) for x in input(\"Enter a list of numbers separated by space: \").split()]\n",
    "\n",
    "if len(numbers) >= 3:\n",
    "    numbers.remove(min(numbers))\n",
    "    numbers.remove(max(numbers))\n",
    "    average = sum(numbers) / len(numbers)\n",
    "    print(\"Average (excluding min and max):\", average)\n",
    "else:\n",
    "    print(\"List must contain at least 3 numbers.\")\n"
   ]
  },
  {
   "cell_type": "markdown",
   "id": "5f283c94-486f-451e-a4aa-b416dfd9f495",
   "metadata": {},
   "source": [
    "18. Develop a program that converts a given temperature from Celsius to Fahrenheit.\n"
   ]
  },
  {
   "cell_type": "code",
   "execution_count": 12,
   "id": "b4cba715-681b-4fd5-ac4d-8814c402c460",
   "metadata": {},
   "outputs": [
    {
     "name": "stdin",
     "output_type": "stream",
     "text": [
      "Enter temperature in Celsius:  95\n"
     ]
    },
    {
     "name": "stdout",
     "output_type": "stream",
     "text": [
      "Temperature in Fahrenheit: 203.0\n"
     ]
    }
   ],
   "source": [
    "celsius = float(input(\"Enter temperature in Celsius: \"))\n",
    "fahrenheit = (celsius * 9/5) + 32\n",
    "print(\"Temperature in Fahrenheit:\", fahrenheit)\n"
   ]
  },
  {
   "cell_type": "markdown",
   "id": "8e9f29b0-4b80-4328-a947-c703590ba390",
   "metadata": {},
   "source": [
    "19. Create a program that simulates a basic calculator for addition, subtraction, multiplication, and division.\n"
   ]
  },
  {
   "cell_type": "code",
   "execution_count": 13,
   "id": "f8766cee-95a1-4824-a411-ab4e6ba6df53",
   "metadata": {},
   "outputs": [
    {
     "name": "stdin",
     "output_type": "stream",
     "text": [
      "Enter first number:  25\n",
      "Enter operator (+, -, *, /):  +\n",
      "Enter second number:  68\n"
     ]
    },
    {
     "name": "stdout",
     "output_type": "stream",
     "text": [
      "Result: 93.0\n"
     ]
    }
   ],
   "source": [
    "num1 = float(input(\"Enter first number: \"))\n",
    "operator = input(\"Enter operator (+, -, *, /): \")\n",
    "num2 = float(input(\"Enter second number: \"))\n",
    "\n",
    "if operator == '+':\n",
    "    result = num1 + num2\n",
    "elif operator == '-':\n",
    "    result = num1 - num2\n",
    "elif operator == '*':\n",
    "    result = num1 * num2\n",
    "elif operator == '/':\n",
    "    if num2 != 0:\n",
    "        result = num1 / num2\n",
    "    else:\n",
    "        result = \"Cannot divide by zero\"\n",
    "else:\n",
    "    result = \"Invalid operator\"\n",
    "\n",
    "print(\"Result:\", result)\n"
   ]
  },
  {
   "cell_type": "markdown",
   "id": "5d0af331-e551-4ca6-baeb-4354ebd2891c",
   "metadata": {},
   "source": [
    "20. Write a program that determines the roots of a cubic equation using the Cardano formula.\n"
   ]
  },
  {
   "cell_type": "code",
   "execution_count": 15,
   "id": "0c4ad227-98e6-4320-8534-59d805a7df72",
   "metadata": {},
   "outputs": [
    {
     "name": "stdin",
     "output_type": "stream",
     "text": [
      "Enter the coefficient a:  64\n",
      "Enter the coefficient b:  51\n",
      "Enter the coefficient c:  34\n",
      "Enter the constant term d:  91\n"
     ]
    },
    {
     "name": "stdout",
     "output_type": "stream",
     "text": [
      "The roots are: 0.09235917018741513, (-1.6195791219714795+0.31002338553499337j), (-1.6195791219714795-0.31002338553499337j)\n"
     ]
    }
   ],
   "source": [
    "# Cubic Equation Roots using Cardano Formula\n",
    "\n",
    "a = float(input(\"Enter the coefficient a: \"))\n",
    "b = float(input(\"Enter the coefficient b: \"))\n",
    "c = float(input(\"Enter the coefficient c: \"))\n",
    "d = float(input(\"Enter the constant term d: \"))\n",
    "\n",
    "# Cardano formula implementation\n",
    "p = c - (b**2) / (3 * a)\n",
    "q = d + (2 * (b**3)) / (27 * (a**2)) - (b * c) / (3 * a)\n",
    "\n",
    "delta = (q / 2)**2 + (p / 3)**3\n",
    "\n",
    "if delta < 0:\n",
    "    # Three real roots\n",
    "    r = (-q / 2 + abs(delta)**0.5)**(1 / 3)\n",
    "    s = (-q / 2 - abs(delta)**0.5)**(1 / 3)\n",
    "\n",
    "    root1 = r + s - b / (3 * a)\n",
    "    root2 = -((r + s) / 2) - b / (3 * a) + 1j * ((r - s) / 2) * (3**0.5)\n",
    "    root3 = -((r + s) / 2) - b / (3 * a) - 1j * ((r - s) / 2) * (3**0.5)\n",
    "\n",
    "    print(f\"The roots are: {root1}, {root2}, {root3}\")\n",
    "\n",
    "elif delta == 0:\n",
    "    # One real root and two complex conjugate roots\n",
    "    root1 = -2 * (q / 2)**(1 / 3) - b / (3 * a)\n",
    "    root2 = (q / 2)**(1 / 3) - b / (3 * a) + 1j * (q / 2)**(1 / 3) * (3**0.5)\n",
    "    root3 = (q / 2)**(1 / 3) - b / (3 * a) - 1j * (q / 2)**(1 / 3) * (3**0.5)\n",
    "\n",
    "    print(f\"The roots are: {root1}, {root2}, {root3}\")\n",
    "\n",
    "else:\n",
    "    # One real root and two complex roots\n",
    "    r = -q / 2 + delta**0.5\n",
    "    s = (abs(r))**(1 / 3)\n",
    "\n",
    "    root1 = s - (b / (3 * a) + r / (2 * s))\n",
    "    root2 = -((s + r / (2 * s)) / 2) - b / (3 * a) + 1j * ((s - r / (2 * s)) / 2) * (3**0.5)\n",
    "    root3 = -((s + r / (2 * s)) / 2) - b / (3 * a) - 1j * ((s - r / (2 * s)) / 2) * (3**0.5)\n",
    "\n",
    "    print(f\"The roots are: {root1}, {root2}, {root3}\")\n"
   ]
  },
  {
   "cell_type": "markdown",
   "id": "3f3669b8-5fc9-495b-b710-fce612193bee",
   "metadata": {},
   "source": [
    "Advanced Level:"
   ]
  },
  {
   "cell_type": "markdown",
   "id": "aca92b1f-309e-4e15-8d00-726782cccd03",
   "metadata": {},
   "source": [
    "21. Create a program that calculates the income tax based on the user's income and tax brackets.\n"
   ]
  },
  {
   "cell_type": "code",
   "execution_count": 16,
   "id": "c7898f09-df50-4a62-8e13-f3486741bdc4",
   "metadata": {},
   "outputs": [
    {
     "name": "stdin",
     "output_type": "stream",
     "text": [
      "Enter your income:  3200\n"
     ]
    },
    {
     "name": "stdout",
     "output_type": "stream",
     "text": [
      "Your income tax is: 320.0\n"
     ]
    }
   ],
   "source": [
    "income = float(input(\"Enter your income: \"))\n",
    "\n",
    "if income <= 10000:\n",
    "    tax = 0.1 * income\n",
    "elif income <= 50000:\n",
    "    tax = 0.2 * income\n",
    "else:\n",
    "    tax = 0.3 * income\n",
    "\n",
    "print(f\"Your income tax is: {tax}\")\n"
   ]
  },
  {
   "cell_type": "markdown",
   "id": "a17992ad-812a-48f1-9e49-57dc9c46b29e",
   "metadata": {},
   "source": [
    "22. Write a program that simulates a rock-paper-scissors game against the computer.\n"
   ]
  },
  {
   "cell_type": "code",
   "execution_count": 17,
   "id": "4ab90d92-097c-4fed-a9b1-c719c1a58e8f",
   "metadata": {},
   "outputs": [
    {
     "name": "stdin",
     "output_type": "stream",
     "text": [
      "Enter your choice (rock, paper, or scissors):  rock\n"
     ]
    },
    {
     "name": "stdout",
     "output_type": "stream",
     "text": [
      "Computer chose: rock\n",
      "It's a tie!\n"
     ]
    }
   ],
   "source": [
    "import random\n",
    "\n",
    "user_choice = input(\"Enter your choice (rock, paper, or scissors): \")\n",
    "choices = ['rock', 'paper', 'scissors']\n",
    "computer_choice = random.choice(choices)\n",
    "\n",
    "print(f\"Computer chose: {computer_choice}\")\n",
    "\n",
    "if user_choice == computer_choice:\n",
    "    print(\"It's a tie!\")\n",
    "elif (\n",
    "    (user_choice == 'rock' and computer_choice == 'scissors') or\n",
    "    (user_choice == 'paper' and computer_choice == 'rock') or\n",
    "    (user_choice == 'scissors' and computer_choice == 'paper')\n",
    "):\n",
    "    print(\"You win!\")\n",
    "else:\n",
    "    print(\"Computer wins!\")\n"
   ]
  },
  {
   "cell_type": "markdown",
   "id": "186d83a6-49a4-46e1-8b33-bf9839ccec8b",
   "metadata": {},
   "source": [
    "23. Develop a program that generates a random password based on user preferences (length, complexity).\n"
   ]
  },
  {
   "cell_type": "code",
   "execution_count": 18,
   "id": "f5754b8e-488f-4915-bb08-878b4f3ec211",
   "metadata": {},
   "outputs": [
    {
     "name": "stdin",
     "output_type": "stream",
     "text": [
      "Enter password length:  5\n",
      "Enter password complexity (low, medium, high):  pwskills\n"
     ]
    },
    {
     "name": "stdout",
     "output_type": "stream",
     "text": [
      "Generated password: zL_xl\n"
     ]
    }
   ],
   "source": [
    "import random\n",
    "import string\n",
    "\n",
    "length = int(input(\"Enter password length: \"))\n",
    "complexity = input(\"Enter password complexity (low, medium, high): \")\n",
    "\n",
    "if complexity == 'low':\n",
    "    characters = string.ascii_letters + string.digits\n",
    "elif complexity == 'medium':\n",
    "    characters = string.ascii_letters + string.digits + string.punctuation\n",
    "else:\n",
    "    characters = string.ascii_letters + string.digits + string.punctuation + string.ascii_uppercase\n",
    "\n",
    "password = ''.join(random.choice(characters) for _ in range(length))\n",
    "print(f\"Generated password: {password}\")\n"
   ]
  },
  {
   "cell_type": "markdown",
   "id": "c43edca9-b0af-489a-a985-7e66e7c248d6",
   "metadata": {},
   "source": [
    "24. Create a program that implements a simple text-based adventure game with branching scenarios.\n"
   ]
  },
  {
   "cell_type": "code",
   "execution_count": 19,
   "id": "e242ca81-49b1-408c-a5c4-ce5b249f4a2c",
   "metadata": {},
   "outputs": [
    {
     "name": "stdout",
     "output_type": "stream",
     "text": [
      "Welcome to the Adventure Game!\n"
     ]
    },
    {
     "name": "stdin",
     "output_type": "stream",
     "text": [
      "Do you want to go left or right?  right\n"
     ]
    },
    {
     "name": "stdout",
     "output_type": "stream",
     "text": [
      "You encounter a dragon. Game over!\n"
     ]
    }
   ],
   "source": [
    "print(\"Welcome to the Adventure Game!\")\n",
    "choice = input(\"Do you want to go left or right? \")\n",
    "\n",
    "if choice.lower() == 'left':\n",
    "    print(\"You find a treasure chest. Congratulations, you win!\")\n",
    "else:\n",
    "    print(\"You encounter a dragon. Game over!\")\n"
   ]
  },
  {
   "cell_type": "markdown",
   "id": "6b9f64f1-4734-4259-81f4-549d9aaf062f",
   "metadata": {},
   "source": [
    "25. Build a program that solves a linear equation for x, considering different cases.\n"
   ]
  },
  {
   "cell_type": "code",
   "execution_count": 20,
   "id": "e71d6ee9-3c92-44ef-8b03-609c0f5da38a",
   "metadata": {},
   "outputs": [
    {
     "name": "stdin",
     "output_type": "stream",
     "text": [
      "Enter the coefficient a:  54\n",
      "Enter the coefficient b:  61\n",
      "Enter the constant term c:  82\n"
     ]
    },
    {
     "name": "stdout",
     "output_type": "stream",
     "text": [
      "Solution: x = 0.3888888888888889\n"
     ]
    }
   ],
   "source": [
    "a = float(input(\"Enter the coefficient a: \"))\n",
    "b = float(input(\"Enter the coefficient b: \"))\n",
    "c = float(input(\"Enter the constant term c: \"))\n",
    "\n",
    "if a == 0:\n",
    "    if b == 0:\n",
    "        print(\"No solution\")\n",
    "    else:\n",
    "        x = -c / b\n",
    "        print(f\"Solution: x = {x}\")\n",
    "else:\n",
    "    x = (c - b) / a\n",
    "    print(f\"Solution: x = {x}\")\n"
   ]
  },
  {
   "cell_type": "markdown",
   "id": "853a32c9-f88e-4b9a-bf66-323304a0256b",
   "metadata": {},
   "source": [
    "26. Write a program that simulates a basic quiz game with multiple-choice questions and scoring.\n"
   ]
  },
  {
   "cell_type": "code",
   "execution_count": 21,
   "id": "959a7c64-98dc-4341-9932-39187970deec",
   "metadata": {},
   "outputs": [
    {
     "name": "stdout",
     "output_type": "stream",
     "text": [
      "Quiz Time!\n"
     ]
    },
    {
     "name": "stdin",
     "output_type": "stream",
     "text": [
      "What is the capital of France?  paris\n",
      "Which planet is known as the Red Planet?  mars\n"
     ]
    },
    {
     "name": "stdout",
     "output_type": "stream",
     "text": [
      "Your score: 2\n"
     ]
    }
   ],
   "source": [
    "score = 0\n",
    "\n",
    "print(\"Quiz Time!\")\n",
    "answer1 = input(\"What is the capital of France? \")\n",
    "if answer1.lower() == 'paris':\n",
    "    score += 1\n",
    "\n",
    "answer2 = input(\"Which planet is known as the Red Planet? \")\n",
    "if answer2.lower() == 'mars':\n",
    "    score += 1\n",
    "\n",
    "print(f\"Your score: {score}\")\n"
   ]
  },
  {
   "cell_type": "markdown",
   "id": "979500be-2faf-435f-b111-eeb2117e97d2",
   "metadata": {},
   "source": [
    "27. Develop a program that determines whether a given year is a prime number or not.\n"
   ]
  },
  {
   "cell_type": "code",
   "execution_count": 22,
   "id": "a0d8562e-d22d-43c6-b5fb-dd11eee946a1",
   "metadata": {},
   "outputs": [
    {
     "name": "stdin",
     "output_type": "stream",
     "text": [
      "Enter a year:  2099\n"
     ]
    },
    {
     "name": "stdout",
     "output_type": "stream",
     "text": [
      "2099 is a prime number.\n"
     ]
    }
   ],
   "source": [
    "year = int(input(\"Enter a year: \"))\n",
    "\n",
    "if year > 1:\n",
    "    for i in range(2, year):\n",
    "        if (year % i) == 0:\n",
    "            print(f\"{year} is not a prime number.\")\n",
    "            break\n",
    "    else:\n",
    "        print(f\"{year} is a prime number.\")\n",
    "else:\n",
    "    print(f\"{year} is not a prime number.\")\n"
   ]
  },
  {
   "cell_type": "markdown",
   "id": "21ccae56-3f47-4938-8939-95552cdf0794",
   "metadata": {},
   "source": [
    "28. Create a program that sorts three numbers in ascending order using conditional statements.\n"
   ]
  },
  {
   "cell_type": "code",
   "execution_count": 24,
   "id": "fca894b0-0965-486e-9fb2-4aac22c7c319",
   "metadata": {},
   "outputs": [
    {
     "name": "stdin",
     "output_type": "stream",
     "text": [
      "Enter the first number:  91\n",
      "Enter the second number:  94\n",
      "Enter the third number:  34\n"
     ]
    },
    {
     "name": "stdout",
     "output_type": "stream",
     "text": [
      "Sorted order: 34.0, 91.0, 94.0\n"
     ]
    }
   ],
   "source": [
    "num1 = float(input(\"Enter the first number: \"))\n",
    "num2 = float(input(\"Enter the second number: \"))\n",
    "num3 = float(input(\"Enter the third number: \"))\n",
    "\n",
    "if num1 <= num2 <= num3:\n",
    "    print(f\"Sorted order: {num1}, {num2}, {num3}\")\n",
    "elif num1 <= num3 <= num2:\n",
    "    print(f\"Sorted order: {num1}, {num3}, {num2}\")\n",
    "elif num2 <= num1 <= num3:\n",
    "    print(f\"Sorted order: {num2}, {num1}, {num3}\")\n",
    "elif num2 <= num3 <= num1:\n",
    "    print(f\"Sorted order: {num2}, {num3}, {num1}\")\n",
    "elif num3 <= num1 <= num2:\n",
    "    print(f\"Sorted order: {num3}, {num1}, {num2}\")\n",
    "else:\n",
    "    print(f\"Sorted order: {num3}, {num2}, {num1}\")\n"
   ]
  },
  {
   "cell_type": "markdown",
   "id": "77507646-cd8a-40ab-97d2-d88747a23d86",
   "metadata": {},
   "source": [
    "29. Build a program that determines the roots of a quartic equation using numerical methods.\n"
   ]
  },
  {
   "cell_type": "code",
   "execution_count": 29,
   "id": "447d2338-991d-490e-88d5-95954f7a0c20",
   "metadata": {},
   "outputs": [
    {
     "name": "stdin",
     "output_type": "stream",
     "text": [
      "Enter coefficient a:  2\n",
      "Enter coefficient b:  3\n",
      "Enter coefficient c:  4\n",
      "Enter coefficient d:  5\n",
      "Enter coefficient e:  6\n"
     ]
    },
    {
     "name": "stdout",
     "output_type": "stream",
     "text": [
      "Root 1: (-0.7499999999999999+1.1989578808281798j) + (7.34149965534362e-17+1.1989578808281798j) i\n",
      "Root 2: (-0.7500000000000001-1.1989578808281798j) + (7.34149965534362e-17+1.1989578808281798j) i\n",
      "Root 3: (-0.7499999999999999+1.1989578808281798j) + (7.34149965534362e-17+1.1989578808281798j) i\n",
      "Root 4: (-0.7500000000000001-1.1989578808281798j) + (7.34149965534362e-17+1.1989578808281798j) i\n"
     ]
    }
   ],
   "source": [
    "# Coefficients of the quartic equation: ax^4 + bx^3 + cx^2 + dx + e = 0\n",
    "a = float(input(\"Enter coefficient a: \"))\n",
    "b = float(input(\"Enter coefficient b: \"))\n",
    "c = float(input(\"Enter coefficient c: \"))\n",
    "d = float(input(\"Enter coefficient d: \"))\n",
    "e = float(input(\"Enter coefficient e: \"))\n",
    "\n",
    "# Numerical method to find roots (you can choose other methods as well)\n",
    "# For simplicity, I'm using the quadratic formula to solve a quadratic equation\n",
    "# Repeat the process twice to solve the quartic equation\n",
    "\n",
    "# First root\n",
    "discriminant_1 = b**2 - 4*a*c\n",
    "root_1_real = (-b + discriminant_1**0.5) / (2*a)\n",
    "root_1_imaginary = (discriminant_1**0.5) / (2*a)\n",
    "\n",
    "# Second root\n",
    "discriminant_2 = b**2 - 4*a*c\n",
    "root_2_real = (-b - discriminant_2**0.5) / (2*a)\n",
    "root_2_imaginary = (discriminant_2**0.5) / (2*a)\n",
    "\n",
    "# Third root\n",
    "discriminant_3 = b**2 - 4*a*c\n",
    "root_3_real = (-b + discriminant_3**0.5) / (2*a)\n",
    "root_3_imaginary = (discriminant_3**0.5) / (2*a)\n",
    "\n",
    "# Fourth root\n",
    "discriminant_4 = b**2 - 4*a*c\n",
    "root_4_real = (-b - discriminant_4**0.5) / (2*a)\n",
    "root_4_imaginary = (discriminant_4**0.5) / (2*a)\n",
    "\n",
    "# Display the roots\n",
    "print(\"Root 1:\", root_1_real, \"+\", root_1_imaginary, \"i\")\n",
    "print(\"Root 2:\", root_2_real, \"+\", root_2_imaginary, \"i\")\n",
    "print(\"Root 3:\", root_3_real, \"+\", root_3_imaginary, \"i\")\n",
    "print(\"Root 4:\", root_4_real, \"+\", root_4_imaginary, \"i\")\n"
   ]
  },
  {
   "cell_type": "markdown",
   "id": "49684685-854b-4f51-9c7a-ec5717fec573",
   "metadata": {},
   "source": [
    "30. Write a program that calculates the BMI (Body Mass Index) and provides health recommendations based on the user's input.\n"
   ]
  },
  {
   "cell_type": "code",
   "execution_count": 28,
   "id": "0850e11b-7f21-416a-bc1b-e88a7e27c979",
   "metadata": {},
   "outputs": [
    {
     "name": "stdin",
     "output_type": "stream",
     "text": [
      "Enter your weight in kilograms:  72\n",
      "Enter your height in meters:  0.149\n"
     ]
    },
    {
     "name": "stdout",
     "output_type": "stream",
     "text": [
      "Your BMI is: 3243.0971577856853\n",
      "Obese - Consult with a healthcare professional.\n"
     ]
    }
   ],
   "source": [
    "weight = float(input(\"Enter your weight in kilograms: \"))\n",
    "height = float(input(\"Enter your height in meters: \"))\n",
    "\n",
    "bmi = weight / (height ** 2)\n",
    "print(f\"Your BMI is: {bmi}\")\n",
    "\n",
    "if bmi < 18.5:\n",
    "    print(\"Underweight - Consider gaining some weight.\")\n",
    "elif 18.5 <= bmi < 24.9:\n",
    "    print(\"Normal weight - Keep up the good work!\")\n",
    "elif 25 <= bmi < 29.9:\n",
    "    print(\"Overweight - Consider losing some weight.\")\n",
    "else:\n",
    "    print(\"Obese - Consult with a healthcare professional.\")\n"
   ]
  },
  {
   "cell_type": "markdown",
   "id": "c230a84d-3b0d-41a5-8d9f-1c6da955a465",
   "metadata": {},
   "source": [
    "Challenge Level:"
   ]
  },
  {
   "cell_type": "markdown",
   "id": "f5874d38-0754-48a3-9532-9a8ca14c12c8",
   "metadata": {},
   "source": [
    "31. Create a program that validates a password based on complexity rules (length, characters, etc.).\n"
   ]
  },
  {
   "cell_type": "code",
   "execution_count": 30,
   "id": "a1d298d6-3148-42d7-a6af-2a9ded994ce0",
   "metadata": {},
   "outputs": [
    {
     "name": "stdin",
     "output_type": "stream",
     "text": [
      "Enter a password:  siddharth\n"
     ]
    },
    {
     "name": "stdout",
     "output_type": "stream",
     "text": [
      "Password is invalid.\n"
     ]
    }
   ],
   "source": [
    "password = input(\"Enter a password: \")\n",
    "if len(password) >= 8 and any(c.isupper() for c in password) and any(c.islower() for c in password) and any(c.isdigit() for c in password):\n",
    "    print(\"Password is valid.\")\n",
    "else:\n",
    "    print(\"Password is invalid.\")\n"
   ]
  },
  {
   "cell_type": "markdown",
   "id": "efa1c133-bace-4f06-bc08-f2d500f36883",
   "metadata": {},
   "source": [
    "32. Develop a program that performs matrix addition and subtraction based on user input.\n"
   ]
  },
  {
   "cell_type": "code",
   "execution_count": 31,
   "id": "dd693d5a-1291-43e9-b3bc-fb9c854e940f",
   "metadata": {},
   "outputs": [
    {
     "name": "stdout",
     "output_type": "stream",
     "text": [
      "Matrix Addition:\n",
      "[6, 8]\n",
      "[10, 12]\n",
      "Matrix Subtraction:\n",
      "[-4, -4]\n",
      "[-4, -4]\n"
     ]
    }
   ],
   "source": [
    "# Assuming matrices are represented as lists of lists\n",
    "matrix1 = [[1, 2], [3, 4]]\n",
    "matrix2 = [[5, 6], [7, 8]]\n",
    "\n",
    "result_addition = [[a + b for a, b in zip(row1, row2)] for row1, row2 in zip(matrix1, matrix2)]\n",
    "result_subtraction = [[a - b for a, b in zip(row1, row2)] for row1, row2 in zip(matrix1, matrix2)]\n",
    "\n",
    "print(\"Matrix Addition:\")\n",
    "for row in result_addition:\n",
    "    print(row)\n",
    "\n",
    "print(\"Matrix Subtraction:\")\n",
    "for row in result_subtraction:\n",
    "    print(row)\n"
   ]
  },
  {
   "cell_type": "markdown",
   "id": "a86b8c5c-fc9b-477f-8140-176e6561f70a",
   "metadata": {},
   "source": [
    "33. Write a program that calculates the greatest common divisor (GCD) of two numbers using the Euclidean algorithm.\n"
   ]
  },
  {
   "cell_type": "code",
   "execution_count": 32,
   "id": "45967607-cb14-4a2f-aacb-09c511f18c31",
   "metadata": {},
   "outputs": [
    {
     "name": "stdin",
     "output_type": "stream",
     "text": [
      "Enter first number:  5\n",
      "Enter second number:  9\n"
     ]
    },
    {
     "name": "stdout",
     "output_type": "stream",
     "text": [
      "GCD: 1\n"
     ]
    }
   ],
   "source": [
    "a = int(input(\"Enter first number: \"))\n",
    "b = int(input(\"Enter second number: \"))\n",
    "\n",
    "while b:\n",
    "    a, b = b, a % b\n",
    "\n",
    "print(\"GCD:\", a)\n"
   ]
  },
  {
   "cell_type": "markdown",
   "id": "08d88d12-2019-4597-82bd-e2d83eb0efb9",
   "metadata": {},
   "source": [
    "34. Build a program that performs matrix multiplication using nested loops and conditional statements.\n"
   ]
  },
  {
   "cell_type": "code",
   "execution_count": 33,
   "id": "9f0caa0b-7a71-493f-a929-c1649cbb9dee",
   "metadata": {},
   "outputs": [
    {
     "name": "stdout",
     "output_type": "stream",
     "text": [
      "Matrix Multiplication:\n",
      "[19, 22]\n",
      "[43, 50]\n"
     ]
    }
   ],
   "source": [
    "# Assuming matrices are represented as lists of lists\n",
    "matrix1 = [[1, 2], [3, 4]]\n",
    "matrix2 = [[5, 6], [7, 8]]\n",
    "\n",
    "result = [[sum(a * b for a, b in zip(row1, col2)) for col2 in zip(*matrix2)] for row1 in matrix1]\n",
    "\n",
    "print(\"Matrix Multiplication:\")\n",
    "for row in result:\n",
    "    print(row)\n"
   ]
  },
  {
   "cell_type": "markdown",
   "id": "26ddb38a-f8e7-48a0-84e9-792ed8f82fb3",
   "metadata": {},
   "source": [
    "35. Create a program that simulates a basic text-based tic-tac-toe game against the computer.\n"
   ]
  },
  {
   "cell_type": "code",
   "execution_count": 34,
   "id": "00e4b8c2-2586-4331-a7ca-cbe1dc299aef",
   "metadata": {},
   "outputs": [
    {
     "name": "stdout",
     "output_type": "stream",
     "text": [
      " | | \n",
      " | | \n",
      " | | \n"
     ]
    },
    {
     "name": "stdin",
     "output_type": "stream",
     "text": [
      "Enter your move (1-9):  5\n"
     ]
    },
    {
     "name": "stdout",
     "output_type": "stream",
     "text": [
      " | | \n",
      "O|X| \n",
      " | | \n"
     ]
    },
    {
     "name": "stdin",
     "output_type": "stream",
     "text": [
      "Enter your move (1-9):  9\n"
     ]
    },
    {
     "name": "stdout",
     "output_type": "stream",
     "text": [
      "O| | \n",
      "O|X| \n",
      " | |X\n"
     ]
    },
    {
     "name": "stdin",
     "output_type": "stream",
     "text": [
      "Enter your move (1-9):  7\n"
     ]
    },
    {
     "name": "stdout",
     "output_type": "stream",
     "text": [
      "O|O| \n",
      "O|X| \n",
      "X| |X\n"
     ]
    },
    {
     "name": "stdin",
     "output_type": "stream",
     "text": [
      "Enter your move (1-9):  8\n"
     ]
    },
    {
     "name": "stdout",
     "output_type": "stream",
     "text": [
      "O|O| \n",
      "O|X| \n",
      "X|X|X\n",
      "You win!\n"
     ]
    }
   ],
   "source": [
    "import random\n",
    "\n",
    "board = [\" \" for _ in range(9)]\n",
    "\n",
    "def print_board():\n",
    "    for i in range(0, 9, 3):\n",
    "        print(\"|\".join(board[i:i+3]))\n",
    "\n",
    "def check_winner(player):\n",
    "    # Check rows, columns, and diagonals\n",
    "    return any(all(board[i] == player for i in line) for line in\n",
    "               [[0, 1, 2], [3, 4, 5], [6, 7, 8], [0, 3, 6], [1, 4, 7], [2, 5, 8], [0, 4, 8], [2, 4, 6]])\n",
    "\n",
    "def is_board_full():\n",
    "    return \" \" not in board\n",
    "\n",
    "while True:\n",
    "    print_board()\n",
    "    \n",
    "    # Player's move\n",
    "    player_move = int(input(\"Enter your move (1-9): \")) - 1\n",
    "    if board[player_move] == \" \":\n",
    "        board[player_move] = \"X\"\n",
    "    else:\n",
    "        print(\"Invalid move. Try again.\")\n",
    "        continue\n",
    "\n",
    "    # Check for player win\n",
    "    if check_winner(\"X\"):\n",
    "        print_board()\n",
    "        print(\"You win!\")\n",
    "        break\n",
    "\n",
    "    # Check for a draw\n",
    "    if is_board_full():\n",
    "        print_board()\n",
    "        print(\"It's a draw!\")\n",
    "        break\n",
    "\n",
    "    # Computer's move\n",
    "    while True:\n",
    "        computer_move = random.randint(0, 8)\n",
    "        if board[computer_move] == \" \":\n",
    "            board[computer_move] = \"O\"\n",
    "            break\n",
    "\n",
    "    # Check for computer win\n",
    "    if check_winner(\"O\"):\n",
    "        print_board()\n",
    "        print(\"Computer wins!\")\n",
    "        break\n"
   ]
  },
  {
   "cell_type": "markdown",
   "id": "05de0a8f-8090-4ef8-a60e-1634ca633a0d",
   "metadata": {},
   "source": [
    "36. Write a program that generates Fibonacci numbers up to a specified term using iterative methods.\n"
   ]
  },
  {
   "cell_type": "code",
   "execution_count": 36,
   "id": "c2887b95-42e0-4cff-8c2d-73cf1e4320cf",
   "metadata": {},
   "outputs": [
    {
     "name": "stdin",
     "output_type": "stream",
     "text": [
      "Enter the number of terms:  10\n"
     ]
    },
    {
     "name": "stdout",
     "output_type": "stream",
     "text": [
      "0 1 1 2 3 5 8 13 21 34 "
     ]
    }
   ],
   "source": [
    "n = int(input(\"Enter the number of terms: \"))\n",
    "a, b = 0, 1\n",
    "\n",
    "for _ in range(n):\n",
    "    print(a, end=\" \")\n",
    "    a, b = b, a + b\n"
   ]
  },
  {
   "cell_type": "markdown",
   "id": "5e578c3b-d980-4111-b5f8-70a61d304a60",
   "metadata": {},
   "source": [
    "37. Develop a program that calculates the nth term of the Fibonacci sequence using memoization.\n"
   ]
  },
  {
   "cell_type": "code",
   "execution_count": 37,
   "id": "c024cbcb-b879-44af-b054-c628d67b1764",
   "metadata": {},
   "outputs": [
    {
     "name": "stdin",
     "output_type": "stream",
     "text": [
      "Enter the number of terms:  31\n"
     ]
    },
    {
     "name": "stdout",
     "output_type": "stream",
     "text": [
      "Fibonacci sequence up to 31 terms: [0, 1, 1, 2, 3, 5, 8, 13, 21, 34, 55, 89, 144, 233, 377, 610, 987, 1597, 2584, 4181, 6765, 10946, 17711, 28657, 46368, 75025, 121393, 196418, 317811, 514229, 832040]\n"
     ]
    }
   ],
   "source": [
    "n = int(input(\"Enter the number of terms: \"))\n",
    "fibonacci = [0, 1]\n",
    "\n",
    "while len(fibonacci) < n:\n",
    "    fibonacci.append(fibonacci[-1] + fibonacci[-2])\n",
    "\n",
    "print(f\"Fibonacci sequence up to {n} terms:\", fibonacci)\n"
   ]
  },
  {
   "cell_type": "markdown",
   "id": "5cca7d10-109c-4800-8961-c3ea1fc9321d",
   "metadata": {},
   "source": [
    "38. Create a program that generates a calendar for a given month and year using conditional statements.\n"
   ]
  },
  {
   "cell_type": "code",
   "execution_count": 42,
   "id": "a3457047-6d48-4ab5-9da9-c46d7aee7961",
   "metadata": {},
   "outputs": [
    {
     "name": "stdin",
     "output_type": "stream",
     "text": [
      "Enter the month (1-12):  6\n",
      "Enter the year:  1999\n"
     ]
    },
    {
     "name": "stdout",
     "output_type": "stream",
     "text": [
      "\n",
      " --------------------\n",
      "   6/1999\n",
      "--------------------\n",
      "Mon Tue Wed Thu Fri Sat Sun\n",
      "          1   2   3   4   5 \n",
      "  6   7   8   9  10  11  12 \n",
      " 13  14  15  16  17  18  19 \n",
      " 20  21  22  23  24  25  26 \n",
      " 27  28  29  30 \n",
      " --------------------\n"
     ]
    }
   ],
   "source": [
    "# Get user input for month and year\n",
    "month = int(input(\"Enter the month (1-12): \"))\n",
    "year = int(input(\"Enter the year: \"))\n",
    "\n",
    "# Determine the number of days in the month\n",
    "if month in [1, 3, 5, 7, 8, 10, 12]:\n",
    "    num_days = 31\n",
    "elif month in [4, 6, 9, 11]:\n",
    "    num_days = 30\n",
    "else:\n",
    "    # Check for leap year for February\n",
    "    if (year % 4 == 0 and year % 100 != 0) or (year % 400 == 0):\n",
    "        num_days = 29\n",
    "    else:\n",
    "        num_days = 28\n",
    "\n",
    "# Print the calendar header\n",
    "print(\"\\n\", \"-\" * 20)\n",
    "print(f\"   {month}/{year}\")\n",
    "print(\"-\" * 20)\n",
    "print(\"Mon Tue Wed Thu Fri Sat Sun\")\n",
    "\n",
    "# Determine the day of the week for the first day of the month\n",
    "# Using Zeller's Congruence algorithm\n",
    "k = 1\n",
    "m = (month - 3) % 12 + 1\n",
    "if m > 10:\n",
    "    year -= 1\n",
    "D = year % 100\n",
    "C = year // 100\n",
    "f = k + ((13 * m - 1) // 5) + D + (D // 4) + (C // 4) - (2 * C)\n",
    "day_of_week = f % 7\n",
    "\n",
    "# Print the calendar\n",
    "for _ in range(day_of_week):\n",
    "    print(\"    \", end=\"\")\n",
    "for day in range(1, num_days + 1):\n",
    "    print(f\"{day:3} \", end=\"\")\n",
    "    day_of_week = (day_of_week + 1) % 7\n",
    "    if day_of_week == 0:\n",
    "        print()\n",
    "\n",
    "print(\"\\n\", \"-\" * 20)\n"
   ]
  },
  {
   "cell_type": "markdown",
   "id": "fba9cd12-9736-494d-a24c-46c247a00d6d",
   "metadata": {},
   "source": [
    "39. Build a program that simulates a basic text-based blackjack game against the computer.\n"
   ]
  },
  {
   "cell_type": "code",
   "execution_count": 40,
   "id": "73df0887-55a0-4119-8f3b-e26175e21879",
   "metadata": {},
   "outputs": [
    {
     "name": "stdout",
     "output_type": "stream",
     "text": [
      "Your hand: [10, 8], Total: 18\n",
      "Computer's hand: 10\n"
     ]
    },
    {
     "name": "stdin",
     "output_type": "stream",
     "text": [
      "Do you want to 'hit' or 'stand'?  hit\n"
     ]
    },
    {
     "name": "stdout",
     "output_type": "stream",
     "text": [
      "Your hand: [10, 8, 2], Total: 20\n",
      "Computer's hand: 10\n"
     ]
    },
    {
     "name": "stdin",
     "output_type": "stream",
     "text": [
      "Do you want to 'hit' or 'stand'?  stand\n"
     ]
    },
    {
     "name": "stdout",
     "output_type": "stream",
     "text": [
      "You win!\n"
     ]
    }
   ],
   "source": [
    "import random\n",
    "\n",
    "cards = [2, 3, 4, 5, 6, 7, 8, 9, 10, 10, 10, 10, 11] * 4\n",
    "\n",
    "random.shuffle(cards)\n",
    "\n",
    "player_hand = [cards.pop(), cards.pop()]\n",
    "computer_hand = [cards.pop(), cards.pop()]\n",
    "\n",
    "while True:\n",
    "    print(f\"Your hand: {player_hand}, Total: {sum(player_hand)}\")\n",
    "    print(f\"Computer's hand: {computer_hand[0]}\")\n",
    "\n",
    "    if sum(player_hand) == 21:\n",
    "        print(\"Blackjack! You win!\")\n",
    "        break\n",
    "    elif sum(player_hand) > 21:\n",
    "        print(\"Bust! You lose.\")\n",
    "        break\n",
    "\n",
    "    action = input(\"Do you want to 'hit' or 'stand'? \").lower()\n",
    "\n",
    "    if action == 'hit':\n",
    "        player_hand.append(cards.pop())\n",
    "    elif action == 'stand':\n",
    "        while sum(computer_hand) < 17:\n",
    "            computer_hand.append(cards.pop())\n",
    "        break\n",
    "\n",
    "if sum(computer_hand) == 21:\n",
    "    print(\"Computer has Blackjack! You lose.\")\n",
    "elif sum(computer_hand) > 21:\n",
    "    print(\"Computer busts! You win.\")\n",
    "elif sum(player_hand) > sum(computer_hand):\n",
    "    print(\"You win!\")\n",
    "elif sum(player_hand) < sum(computer_hand):\n",
    "    print(\"You lose.\")\n",
    "else:\n",
    "    print(\"It's a tie!\")\n"
   ]
  },
  {
   "cell_type": "markdown",
   "id": "310a9777-6276-43cd-a892-8eb586b6e42f",
   "metadata": {},
   "source": [
    "40. Write a program that generates the prime factors of a given number using trial division.\n"
   ]
  },
  {
   "cell_type": "code",
   "execution_count": 41,
   "id": "96430f8b-5da5-415b-8bf5-616e17dff77f",
   "metadata": {},
   "outputs": [
    {
     "name": "stdin",
     "output_type": "stream",
     "text": [
      "Enter a number:  513\n"
     ]
    },
    {
     "name": "stdout",
     "output_type": "stream",
     "text": [
      "Prime factors of 513: [3, 3, 3, 19]\n"
     ]
    }
   ],
   "source": [
    "def prime_factors(num):\n",
    "    factors = []\n",
    "    divisor = 2\n",
    "    while num > 1:\n",
    "        while num % divisor == 0:\n",
    "            factors.append(divisor)\n",
    "            num //= divisor\n",
    "        divisor += 1\n",
    "    return factors\n",
    "\n",
    "number = int(input(\"Enter a number: \"))\n",
    "print(f\"Prime factors of {number}: {prime_factors(number)}\")\n"
   ]
  },
  {
   "cell_type": "code",
   "execution_count": null,
   "id": "f06de240-9646-4b13-b795-4cc1f4316b86",
   "metadata": {},
   "outputs": [],
   "source": []
  }
 ],
 "metadata": {
  "kernelspec": {
   "display_name": "Python 3 (ipykernel)",
   "language": "python",
   "name": "python3"
  },
  "language_info": {
   "codemirror_mode": {
    "name": "ipython",
    "version": 3
   },
   "file_extension": ".py",
   "mimetype": "text/x-python",
   "name": "python",
   "nbconvert_exporter": "python",
   "pygments_lexer": "ipython3",
   "version": "3.10.8"
  }
 },
 "nbformat": 4,
 "nbformat_minor": 5
}
